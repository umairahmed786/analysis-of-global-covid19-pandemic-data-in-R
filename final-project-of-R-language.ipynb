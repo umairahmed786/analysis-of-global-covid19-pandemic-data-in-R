{
 "cells": [
  {
   "cell_type": "markdown",
   "metadata": {},
   "source": [
    "<h1>Analysis of Global COVID-19 Pandemic Data</h1>\n",
    "\n",
    "\n",
    "\n"
   ]
  },
  {
   "cell_type": "code",
   "execution_count": 2,
   "metadata": {
    "tags": [],
    "vscode": {
     "languageId": "r"
    }
   },
   "outputs": [],
   "source": [
    "# This lab requires 'httr' and 'rvest'packages, which are already pre-loaded into this lab environment.\n",
    "# However, if you are working on your local RStudio, please uncomment the below codes and install the packages.\n",
    "\n",
    "#install.packages(\"httr\")\n",
    "#install.packages(\"rvest\")"
   ]
  },
  {
   "cell_type": "code",
   "execution_count": 1,
   "metadata": {
    "tags": [],
    "vscode": {
     "languageId": "r"
    }
   },
   "outputs": [
    {
     "name": "stderr",
     "output_type": "stream",
     "text": [
      "Loading required package: xml2\n"
     ]
    }
   ],
   "source": [
    "library(httr)\n",
    "library(rvest)"
   ]
  },
  {
   "cell_type": "markdown",
   "metadata": {},
   "source": [
    "## Getting a `COVID-19 pandemic` Wiki page using HTTP request\n"
   ]
  },
  {
   "cell_type": "code",
   "execution_count": 28,
   "metadata": {
    "tags": [],
    "vscode": {
     "languageId": "r"
    }
   },
   "outputs": [],
   "source": [
    "\n",
    "get_wiki_covid19_page <- function () {\n",
    "    \n",
    "  # Our target COVID-19 wiki page URL is: https://en.wikipedia.org/w/index.php?title=Template:COVID-19_testing_by_country  \n",
    "  # Which has two parts: \n",
    "    # 1) base URL `https://en.wikipedia.org/w/index.php  \n",
    "    # 2) URL parameter: `title=Template:COVID-19_testing_by_country`, seperated by question mark ?\n",
    "    \n",
    "  # Wiki page base\n",
    "    wiki_base_url <- \"https://en.wikipedia.org/w/index.php\"\n",
    "    \n",
    "    query_params<-list(title=\"Template:COVID-19_testing_by_country\")\n",
    "  # You will need to create a List which has an element called `title` to specify which page you want to get from Wiki\n",
    "  # in our case, it will be `Template:COVID-19_testing_by_country`\n",
    " \n",
    "  # - Use the `GET` function in httr library with a `url` argument and a `query` arugment to get a HTTP response\n",
    "    \n",
    "    wiki_covid19_page<-GET(url=wiki_base_url, query=query_params)\n",
    "  # Use the `return` function to return the response\n",
    "    return(wiki_covid19_page)\n",
    "}\n",
    "\n",
    "\n"
   ]
  },
  {
   "cell_type": "markdown",
   "metadata": {},
   "source": [
    "Calling the `get_wiki_covid19_page` function to get a http response with the target html page\n"
   ]
  },
  {
   "cell_type": "code",
   "execution_count": 31,
   "metadata": {
    "tags": [],
    "vscode": {
     "languageId": "r"
    }
   },
   "outputs": [],
   "source": [
    "# Call the get_wiki_covid19_page function and print the response\n",
    "response<-get_wiki_covid19_page()\n",
    "html_content <- content(response, as = \"text\")\n"
   ]
  },
  {
   "cell_type": "markdown",
   "metadata": {},
   "source": [
    "## Extracting COVID-19 testing data table from the wiki HTML page\n"
   ]
  },
  {
   "cell_type": "markdown",
   "metadata": {},
   "source": [
    "On the COVID-19 testing wiki page, you should see a data table `<table>` node contains COVID-19 testing data by country on the page:\n",
    "\n",
    "<a href=\"https://cognitiveclass.ai/\">\n",
    "    <img src=\"https://cf-courses-data.s3.us.cloud-object-storage.appdomain.cloud/IBMDeveloperSkillsNetwork-RP0101EN-Coursera/v2/M5_Final/images/covid-19-by-country.png\" width=\"400\" align=\"center\">\n",
    "</a>\n",
    "\n",
    "\n"
   ]
  },
  {
   "cell_type": "markdown",
   "metadata": {},
   "source": [
    "Now using the `read_html` function in rvest library to get the root html node from response\n"
   ]
  },
  {
   "cell_type": "code",
   "execution_count": 32,
   "metadata": {
    "tags": [],
    "vscode": {
     "languageId": "r"
    }
   },
   "outputs": [],
   "source": [
    "# Get the root html node from the http response in task 1 \n",
    "html_node<-read_html(html_content)"
   ]
  },
  {
   "cell_type": "markdown",
   "metadata": {},
   "source": [
    "Getting the tables in the HTML root node using `html_nodes` function.\n"
   ]
  },
  {
   "cell_type": "code",
   "execution_count": 33,
   "metadata": {
    "tags": [],
    "vscode": {
     "languageId": "r"
    }
   },
   "outputs": [
    {
     "name": "stdout",
     "output_type": "stream",
     "text": [
      "[1] 4\n"
     ]
    }
   ],
   "source": [
    "# Get the table node from the root html node\n",
    "table_node<-html_nodes(html_node,\"table\")\n",
    "print(length(table_node))"
   ]
  },
  {
   "cell_type": "markdown",
   "metadata": {},
   "source": [
    "Reading the specific table from the multiple tables in the `table_node` using the `html_table` function and convert it into dataframe using `as.data.frame`\n"
   ]
  },
  {
   "cell_type": "code",
   "execution_count": 36,
   "metadata": {
    "tags": [],
    "vscode": {
     "languageId": "r"
    }
   },
   "outputs": [],
   "source": [
    "# Read the table node and convert it into a data frame, and print the data frame for review\n",
    "data_frame<-as.data.frame(html_table(table_node[2],fill=TRUE))"
   ]
  },
  {
   "cell_type": "markdown",
   "metadata": {},
   "source": [
    "## Pre-processing and exporting the extracted data frame\n",
    "\n",
    "\n"
   ]
  },
  {
   "cell_type": "markdown",
   "metadata": {},
   "source": [
    "Let's get a summary of the data frame\n"
   ]
  },
  {
   "cell_type": "code",
   "execution_count": 37,
   "metadata": {
    "tags": [],
    "vscode": {
     "languageId": "r"
    }
   },
   "outputs": [
    {
     "name": "stdout",
     "output_type": "stream",
     "text": [
      " Country.or.region    Date.a.             Tested            Units.b.        \n",
      " Length:173         Length:173         Length:173         Length:173        \n",
      " Class :character   Class :character   Class :character   Class :character  \n",
      " Mode  :character   Mode  :character   Mode  :character   Mode  :character  \n",
      " Confirmed.cases.   Confirmed..tested.. Tested..population..\n",
      " Length:173         Length:173          Length:173          \n",
      " Class :character   Class :character    Class :character    \n",
      " Mode  :character   Mode  :character    Mode  :character    \n",
      " Confirmed..population..     Ref.          \n",
      " Length:173              Length:173        \n",
      " Class :character        Class :character  \n",
      " Mode  :character        Mode  :character  \n"
     ]
    }
   ],
   "source": [
    "# Print the summary of the data frame\n",
    "print(summary(data_frame))"
   ]
  },
  {
   "cell_type": "markdown",
   "metadata": {},
   "source": [
    "As we can see from the summary, the columns names are little bit different to understand and some column data types are not correct. For example, the `Tested` column shows as `character`. \n",
    "\n",
    "As such, the data frame read from HTML table will need some pre-processing such as removing irrelvant columns, renaming columns, and convert columns into proper data types.\n"
   ]
  },
  {
   "cell_type": "code",
   "execution_count": 39,
   "metadata": {
    "tags": [],
    "vscode": {
     "languageId": "r"
    }
   },
   "outputs": [],
   "source": [
    "preprocess_covid_data_frame <- function(data_frame) {\n",
    "    \n",
    "    shape <- dim(data_frame)\n",
    "\n",
    "    # Remove the World row\n",
    "    data_frame<-data_frame[!(data_frame$`Country.or.region`==\"World\"),]\n",
    "    # Remove the last row\n",
    "    data_frame <- data_frame[1:172, ]\n",
    "    \n",
    "    # We dont need the Units and Ref columns, so can be removed\n",
    "    data_frame[\"Ref.\"] <- NULL\n",
    "    data_frame[\"Units.b.\"] <- NULL\n",
    "    \n",
    "    # Renaming the columns\n",
    "    names(data_frame) <- c(\"country\", \"date\", \"tested\", \"confirmed\", \"confirmed.tested.ratio\", \"tested.population.ratio\", \"confirmed.population.ratio\")\n",
    "    \n",
    "    # Convert column data types\n",
    "    data_frame$country <- as.factor(data_frame$country)\n",
    "    data_frame$date <- as.factor(data_frame$date)\n",
    "    data_frame$tested <- as.numeric(gsub(\",\",\"\",data_frame$tested))\n",
    "    data_frame$confirmed <- as.numeric(gsub(\",\",\"\",data_frame$confirmed))\n",
    "    data_frame$'confirmed.tested.ratio' <- as.numeric(gsub(\",\",\"\",data_frame$`confirmed.tested.ratio`))\n",
    "    data_frame$'tested.population.ratio' <- as.numeric(gsub(\",\",\"\",data_frame$`tested.population.ratio`))\n",
    "    data_frame$'confirmed.population.ratio' <- as.numeric(gsub(\",\",\"\",data_frame$`confirmed.population.ratio`))\n",
    "    \n",
    "    return(data_frame)\n",
    "}\n"
   ]
  },
  {
   "cell_type": "markdown",
   "metadata": {},
   "source": [
    "Calling the `preprocess_covid_data_frame` function\n"
   ]
  },
  {
   "cell_type": "code",
   "execution_count": 40,
   "metadata": {
    "tags": [],
    "vscode": {
     "languageId": "r"
    }
   },
   "outputs": [],
   "source": [
    "# call `preprocess_covid_data_frame` function and assign it to a new data frame\n",
    "processed_data<-preprocess_covid_data_frame(data_frame)"
   ]
  },
  {
   "cell_type": "markdown",
   "metadata": {},
   "source": [
    "Getting the summary of the processed data frame again\n"
   ]
  },
  {
   "cell_type": "code",
   "execution_count": 41,
   "metadata": {
    "tags": [],
    "vscode": {
     "languageId": "r"
    }
   },
   "outputs": [
    {
     "name": "stdout",
     "output_type": "stream",
     "text": [
      "                country             date         tested         \n",
      " Afghanistan        :  1   2 Feb 2023 :  6   Min.   :     3880  \n",
      " Albania            :  1   1 Feb 2023 :  4   1st Qu.:   512037  \n",
      " Algeria            :  1   31 Jan 2023:  4   Median :  3029859  \n",
      " Andorra            :  1   1 Mar 2021 :  3   Mean   : 31377219  \n",
      " Angola             :  1   23 Jul 2021:  3   3rd Qu.: 12386725  \n",
      " Antigua and Barbuda:  1   29 Jan 2023:  3   Max.   :929349291  \n",
      " (Other)            :166   (Other)    :149                      \n",
      "   confirmed        confirmed.tested.ratio tested.population.ratio\n",
      " Min.   :       0   Min.   : 0.00          Min.   :   0.006       \n",
      " 1st Qu.:   37839   1st Qu.: 5.00          1st Qu.:   9.475       \n",
      " Median :  281196   Median :10.05          Median :  46.950       \n",
      " Mean   : 2508340   Mean   :11.25          Mean   : 175.504       \n",
      " 3rd Qu.: 1278105   3rd Qu.:15.25          3rd Qu.: 156.500       \n",
      " Max.   :90749469   Max.   :46.80          Max.   :3223.000       \n",
      "                                                                  \n",
      " confirmed.population.ratio\n",
      " Min.   : 0.000            \n",
      " 1st Qu.: 0.425            \n",
      " Median : 6.100            \n",
      " Mean   :12.769            \n",
      " 3rd Qu.:16.250            \n",
      " Max.   :74.400            \n",
      "                           \n"
     ]
    }
   ],
   "source": [
    "# Print the summary of the processed data frame again\n",
    "print(summary(processed_data))"
   ]
  },
  {
   "cell_type": "markdown",
   "metadata": {},
   "source": [
    "After pre-processing, we can see the columns and columns names are simplified, and columns types are converted into correct types.\n"
   ]
  },
  {
   "cell_type": "markdown",
   "metadata": {},
   "source": [
    "The data frame has following columns:\n",
    "\n",
    "- **country** - The name of the country\n",
    "- **date** - Reported date\n",
    "- **tested** - Total tested cases by the reported date\n",
    "- **confirmed** - Total confirmed cases by the reported date\n",
    "- **confirmed.tested.ratio** - The ratio of confirmed cases to the tested cases\n",
    "- **tested.population.ratio** - The ratio of tested cases to the population of the country\n",
    "- **confirmed.population.ratio** - The ratio of confirmed cases to the population of the country\n"
   ]
  },
  {
   "cell_type": "markdown",
   "metadata": {},
   "source": [
    "OK, we can call `write.csv()` function to save the csv file into a file. \n"
   ]
  },
  {
   "cell_type": "code",
   "execution_count": 42,
   "metadata": {
    "tags": [],
    "vscode": {
     "languageId": "r"
    }
   },
   "outputs": [
    {
     "name": "stdout",
     "output_type": "stream",
     "text": [
      "\"\",\"country\",\"date\",\"tested\",\"confirmed\",\"confirmed.tested.ratio\",\"tested.population.ratio\",\"confirmed.population.ratio\"\n",
      "\"1\",\"Afghanistan\",\"17 Dec 2020\",154767,49621,32.1,0.4,0.13\n",
      "\"2\",\"Albania\",\"18 Feb 2021\",428654,96838,22.6,15,3.4\n",
      "\"3\",\"Algeria\",\"2 Nov 2020\",230553,58574,25.4,0.53,0.13\n",
      "\"4\",\"Andorra\",\"23 Feb 2022\",300307,37958,12.6,387,49\n",
      "\"5\",\"Angola\",\"2 Feb 2021\",399228,20981,5.3,1.3,0.067\n",
      "\"6\",\"Antigua and Barbuda\",\"6 Mar 2021\",15268,832,5.4,15.9,0.86\n",
      "\"7\",\"Argentina\",\"16 Apr 2022\",35716069,9060495,25.4,78.3,20\n",
      "\"8\",\"Armenia\",\"29 May 2022\",3099602,422963,13.6,105,14.3\n",
      "\"9\",\"Australia\",\"9 Sep 2022\",78548492,10112229,12.9,313,40.3\n",
      "\"10\",\"Austria\",\"1 Feb 2023\",205817752,5789991,2.8,2312,65\n",
      "\"11\",\"Azerbaijan\",\"11 May 2022\",6838458,792638,11.6,69.1,8\n",
      "\"12\",\"Bahamas\",\"28 Nov 2022\",259366,37483,14.5,67.3,9.7\n",
      "\"13\",\"Bahrain\",\"3 Dec 2022\",10578766,696614,6.6,674,44.4\n",
      "\"14\",\"Bangladesh\",\"24 Jul 2021\",7417714,1151644,15.5,4.5,0.7\n",
      "\"15\",\"Barbados\",\"14 Oct 2022\",770100,103014,13.4,268,35.9\n",
      "\"16\",\"Belarus\",\"9 May 2022\",13217569,982809,7.4,139,10.4\n",
      "\"17\",\"Belgium\",\"24 Jan 2023\",36548544,4691499,12.8,317,40.7\n",
      "\"18\",\"Belize\",\"8 Jun 2022\",572900,60694,10.6,140,14.9\n",
      "\"19\",\"Benin\",\"4 May 2021\",595112,7884,1.3,5.1,0.067\n",
      "\"20\",\"Bhutan\",\"28 Feb 2022\",1736168,12702,0.73,234,1.71\n",
      "\"21\",\"Bolivia\",\"5 Jun 2022\",4358669,910228,20.9,38.1,8\n",
      "\"22\",\"Bosnia and Herzegovina\",\"27 Sep 2022\",1872934,399887,21.4,54.7,11.7\n",
      "\"23\",\"Botswana\",\"11 Jan 2022\",2026898,232432,11.5,89.9,10.3\n",
      "\"24\",\"Brazil\",\"19 Feb 2021\",23561497,10081676,42.8,11.2,4.8\n",
      "\"25\",\"Brunei\",\"2 Aug 2021\",153804,338,0.22,33.5,0.074\n",
      "\"26\",\"Bulgaria\",\"2 Feb 2023\",10993239,1295524,11.8,158,18.6\n",
      "\"27\",\"Burkina Faso\",\"4 Mar 2021\",158777,12123,7.6,0.76,0.058\n",
      "\"28\",\"Burundi\",\"5 Jan 2021\",90019,884,0.98,0.76,0.0074\n",
      "\"29\",\"Cambodia\",\"1 Aug 2021\",1812706,77914,4.3,11.2,0.48\n",
      "\"30\",\"Cameroon\",\"18 Feb 2021\",942685,32681,3.5,3.6,0.12\n",
      "\"31\",\"Canada\",\"26 Nov 2022\",66343123,4423053,6.7,175,11.7\n",
      "\"32\",\"Chad\",\"2 Mar 2021\",99027,4020,4.1,0.72,0.029\n",
      "\"33\",\"Chile\",\"1 Feb 2023\",48154268,5123007,10.6,252,26.9\n",
      "\"34\",\"China[c]\",\"31 Jul 2020\",1.6e+08,87655,0.055,11.1,0.0061\n",
      "\"35\",\"Colombia\",\"24 Nov 2022\",36875818,6314769,17.1,76.4,13.1\n",
      "\"36\",\"Costa Rica\",\"2 Nov 2021\",2575363,561054,21.8,51.5,11.2\n",
      "\"37\",\"Croatia\",\"2 Feb 2023\",5481285,1267798,23.1,134,31.1\n",
      "\"38\",\"Cuba\",\"2 Feb 2023\",14301394,1112470,7.8,126,9.8\n",
      "\"39\",\"Cyprus[d]\",\"29 Jan 2023\",27820163,644160,2.3,3223,74.4\n",
      "\"40\",\"Czechia\",\"1 Feb 2023\",22544928,4590529,20.4,211,42.9\n",
      "\"41\",\"Denmark[e]\",\"31 Jan 2023\",67682707,3399947,5,1162,58.4\n",
      "\"42\",\"Djibouti\",\"28 Apr 2022\",305941,15631,5.1,33.2,1.7\n",
      "\"43\",\"Dominica\",\"20 Jun 2022\",209803,14821,7.1,293,20.7\n",
      "\"44\",\"Dominican Republic\",\"22 Jul 2022\",3574665,626030,17.5,32.9,5.8\n",
      "\"45\",\"DR Congo\",\"28 Feb 2021\",124838,25961,20.8,0.14,0.029\n",
      "\"46\",\"Ecuador\",\"23 Jul 2021\",1627189,480720,29.5,9.5,2.8\n",
      "\"47\",\"Egypt\",\"23 Jul 2021\",3137519,283947,9.1,3.1,0.28\n",
      "\"48\",\"El Salvador\",\"18 Mar 2022\",1847861,161052,8.7,28.5,2.5\n",
      "\"49\",\"Equatorial Guinea\",\"30 Jan 2023\",403773,17113,4.2,30.8,1.3\n",
      "\"50\",\"Estonia\",\"31 Jan 2023\",3637908,613954,16.9,274,46.2\n",
      "\"51\",\"Eswatini\",\"8 Dec 2021\",415110,49253,11.9,36.5,4.3\n",
      "\"52\",\"Ethiopia\",\"24 Jun 2021\",2981185,278446,9.3,2.6,0.24\n",
      "\"53\",\"Faroe Islands\",\"27 Feb 2022\",774000,34237,4.4,1493,65.7\n",
      "\"54\",\"Fiji\",\"2 Jan 2023\",667953,68848,10.3,74.5,7.7\n",
      "\"55\",\"Finland\",\"14 Jan 2022\",9042453,371135,4.1,163,6.7\n",
      "\"56\",\"France[f][g]\",\"15 May 2022\",272417258,29183646,10.7,417,44.7\n",
      "\"57\",\"Gabon\",\"23 Jul 2021\",958807,25325,2.6,3.1,0.082\n",
      "\"58\",\"Gambia\",\"15 Feb 2021\",43217,4469,10.3,2,0.21\n",
      "\"59\",\"Georgia[h]\",\"3 Nov 2021\",4888787,732965,15,132,19.7\n",
      "\"60\",\"Germany\",\"7 Jul 2021\",65247345,3733519,5.7,77.8,4.5\n",
      "\"61\",\"Ghana\",\"3 Jul 2021\",1305749,96708,7.4,4.2,0.31\n",
      "\"62\",\"Greece\",\"18 Dec 2022\",101576831,5548487,5.5,943,51.5\n",
      "\"63\",\"Greenland\",\"30 Jan 2022\",164573,10662,6.5,293,19\n",
      "\"64\",\"Grenada\",\"11 May 2021\",28684,161,0.56,25.7,0.14\n",
      "\"65\",\"Guatemala\",\"6 Jan 2023\",6800560,1230098,18.1,39.4,7.1\n",
      "\"66\",\"Guinea\",\"21 Jul 2021\",494898,24878,5,3.8,0.19\n",
      "\"67\",\"Guinea-Bissau\",\"7 Jul 2022\",145231,8400,5.8,7.7,0.45\n",
      "\"68\",\"Guyana\",\"15 Jun 2022\",648569,66129,10.2,82.5,8.4\n",
      "\"69\",\"Haiti\",\"26 Nov 2022\",223475,33874,15.2,2,0.3\n",
      "\"70\",\"Honduras\",\"26 Nov 2021\",1133782,377859,33.3,11.8,3.9\n",
      "\"71\",\"Hungary\",\"10 May 2022\",11394556,1909948,16.8,118,19.8\n",
      "\"72\",\"Iceland\",\"9 Aug 2022\",1988652,203162,10.2,546,55.8\n",
      "\"73\",\"India\",\"8 Jul 2022\",866177937,43585554,5,63,31.7\n",
      "\"74\",\"Indonesia\",\"3 Jul 2023\",76062770,6812127,9,28.2,2.5\n",
      "\"75\",\"Iran\",\"31 May 2022\",52269202,7232268,13.8,62.8,8.7\n",
      "\"76\",\"Iraq\",\"3 Aug 2022\",19090652,2448484,12.8,47.5,6.1\n",
      "\"77\",\"Ireland\",\"31 Jan 2023\",12990476,1700817,13.1,264,34.6\n",
      "\"78\",\"Israel\",\"17 Jan 2022\",41373364,1792137,4.3,451,19.5\n",
      "\"79\",\"Italy\",\"16 Mar 2023\",269127054,25651205,9.5,446,42.5\n",
      "\"80\",\"Ivory Coast\",\"3 Mar 2021\",429177,33285,7.8,1.6,0.13\n",
      "\"81\",\"Jamaica\",\"30 Sep 2022\",1184973,151931,12.8,43.5,5.6\n",
      "\"82\",\"Japan\",\"1 Mar 2021\",8487288,432773,5.1,6.7,0.34\n",
      "\"83\",\"Jordan\",\"6 Jun 2021\",7407053,739847,10,69.5,6.9\n",
      "\"84\",\"Kazakhstan\",\"28 May 2021\",11575012,385144,3.3,62.1,2.1\n",
      "\"85\",\"Kenya\",\"5 Mar 2021\",1322806,107729,8.1,2.8,0.23\n",
      "\"86\",\"Kosovo\",\"31 May 2021\",611357,107410,17.6,33.8,5.9\n",
      "\"87\",\"Kuwait\",\"9 Mar 2022\",7754247,624573,8.1,181,14.6\n",
      "\"88\",\"Kyrgyzstan\",\"10 Feb 2021\",695415,85253,12.3,10.7,1.3\n",
      "\"89\",\"Laos\",\"1 Mar 2021\",114030,45,0.039,1.6,0.00063\n",
      "\"90\",\"Latvia\",\"5 Sep 2021\",3630095,144518,4,189,7.5\n",
      "\"91\",\"Lebanon\",\"14 Jun 2021\",4599186,542649,11.8,67.4,8\n",
      "\"92\",\"Lesotho\",\"30 Mar 2022\",431221,32910,7.6,21.5,1.6\n",
      "\"93\",\"Liberia\",\"17 Jul 2021\",128246,5396,4.2,2.5,0.11\n",
      "\"94\",\"Libya\",\"14 Apr 2022\",2578215,501862,19.5,37.6,7.3\n",
      "\"95\",\"Lithuania\",\"31 Jan 2023\",9046584,1170108,12.9,324,41.9\n",
      "\"96\",\"Luxembourg[i]\",\"12 May 2022\",4248188,244182,5.7,679,39\n",
      "\"97\",\"Madagascar\",\"19 Feb 2021\",119608,19831,16.6,0.46,0.076\n",
      "\"98\",\"Malawi\",\"29 Nov 2022\",624784,88086,14.1,3.3,0.46\n",
      "\"99\",\"Malaysia\",\"7 Sep 2021\",23705425,1880734,7.9,72.3,5.7\n",
      "\"100\",\"Maldives\",\"13 Mar 2022\",2216560,174658,7.9,398,31.3\n",
      "\"101\",\"Mali\",\"7 Jul 2021\",322504,14449,4.5,1.6,0.071\n",
      "\"102\",\"Malta\",\"8 Sep 2021\",1211456,36606,3,245,7.4\n",
      "\"103\",\"Mauritania\",\"16 Apr 2021\",268093,18103,6.8,6.1,0.41\n",
      "\"104\",\"Mauritius\",\"22 Nov 2020\",289552,494,0.17,22.9,0.039\n",
      "\"105\",\"Mexico\",\"15 Oct 2021\",10503678,3749860,35.7,8.2,2.9\n",
      "\"106\",\"Moldova[j]\",\"20 Apr 2022\",3213594,516864,16.1,122,19.6\n",
      "\"107\",\"Mongolia\",\"10 Jul 2021\",3354200,136053,4.1,100,4.1\n",
      "\"108\",\"Montenegro\",\"10 May 2021\",394388,98449,25,62.5,15.6\n",
      "\"109\",\"Morocco\",\"6 Jan 2023\",14217563,1272299,8.9,38.5,3.4\n",
      "\"110\",\"Mozambique\",\"22 Jul 2021\",688570,105866,15.4,2.2,0.34\n",
      "\"111\",\"Myanmar\",\"16 Sep 2021\",4047680,440741,10.9,7.4,0.81\n",
      "\"112\",\"Namibia\",\"4 Jul 2022\",1062663,166229,15.6,38.7,6.1\n",
      "\"113\",\"Nepal\",\"26 Jul 2022\",5804358,984475,17,20.7,3.5\n",
      "\"114\",\"Netherlands\",\"6 Jul 2021\",14526293,1692834,11.7,83.4,9.7\n",
      "\"115\",\"New Caledonia\",\"3 Sep 2021\",41962,136,0.32,15.7,0.05\n",
      "\"116\",\"New Zealand\",\"29 Jan 2023\",7757935,2136662,27.5,156,42.9\n",
      "\"117\",\"Niger\",\"22 Feb 2021\",79321,4740,6,0.35,0.021\n",
      "\"118\",\"Nigeria\",\"28 Feb 2021\",1544008,155657,10.1,0.75,0.076\n",
      "\"119\",\"North Korea\",\"25 Nov 2020\",16914,0,0,0.066,0\n",
      "\"120\",\"North Macedonia\",\"1 Jul 2021\",881870,155689,17.7,42.5,7.5\n",
      "\"121\",\"Northern Cyprus[k]\",\"12 Jul 2022\",7096998,103034,1.5,2177,31.6\n",
      "\"122\",\"Norway\",\"20 Jan 2022\",9811888,554778,5.7,183,10.3\n",
      "\"123\",\"Oman\",\"28 Oct 2020\",509959,114434,22.4,11,2.5\n",
      "\"124\",\"Pakistan\",\"5 Mar 2021\",9173593,588728,6.4,4.2,0.27\n",
      "\"125\",\"Palestine\",\"5 Feb 2022\",3078533,574105,18.6,60.9,11.4\n",
      "\"126\",\"Panama\",\"28 Jan 2023\",7475016,1029701,13.8,179,24.7\n",
      "\"127\",\"Papua New Guinea\",\"17 Feb 2021\",47490,961,2,0.53,0.011\n",
      "\"128\",\"Paraguay\",\"27 Mar 2022\",2609819,647950,24.8,36.6,9.1\n",
      "\"129\",\"Peru\",\"17 Nov 2022\",36073768,4177786,11.6,109.9,12.7\n",
      "\"130\",\"Philippines\",\"7 Jan 2023\",34402980,4073980,11.8,34.1,4\n",
      "\"131\",\"Poland\",\"27 Apr 2022\",36064311,5993861,16.6,94,15.6\n",
      "\"132\",\"Portugal\",\"5 Jan 2022\",27515490,1499976,5.5,268,14.6\n",
      "\"133\",\"Qatar\",\"11 Nov 2022\",4061988,473440,11.7,141,16.4\n",
      "\"134\",\"Romania\",\"29 Jan 2021\",5405393,724250,13.4,27.9,3.7\n",
      "\"135\",\"Russia\",\"6 Jun 2022\",295542733,18358459,6.2,201,12.5\n",
      "\"136\",\"Rwanda\",\"6 Oct 2021\",2885812,98209,3.4,22.3,0.76\n",
      "\"137\",\"Saint Kitts and Nevis\",\"26 Aug 2021\",30231,995,3.3,57.6,1.9\n",
      "\"138\",\"Saint Lucia\",\"7 Oct 2022\",212132,29550,13.9,116.6,16.2\n",
      "\"139\",\"Saint Vincent\",\"28 Jan 2023\",113504,9585,8.4,103,8.7\n",
      "\"140\",\"San Marino\",\"29 Jan 2023\",192613,23427,12.2,563,68.4\n",
      "\"141\",\"Saudi Arabia\",\"26 Apr 2022\",41849069,753632,1.8,120,2.2\n",
      "\"142\",\"Senegal\",\"12 Jul 2021\",624502,46509,7.4,3.9,0.29\n",
      "\"143\",\"Serbia\",\"2 Feb 2023\",12185475,2473599,20.3,175,35.5\n",
      "\"144\",\"Singapore\",\"3 Aug 2021\",16206203,65315,0.4,284,1.1\n",
      "\"145\",\"Slovakia\",\"2 Feb 2023\",7391882,1861034,25.2,135,34.1\n",
      "\"146\",\"Slovenia\",\"2 Feb 2023\",2826117,1322282,46.8,135,63.1\n",
      "\"147\",\"South Africa\",\"24 May 2021\",11378282,1637848,14.4,19.2,2.8\n",
      "\"148\",\"South Korea\",\"1 Mar 2021\",6592010,90029,1.4,12.7,0.17\n",
      "\"149\",\"South Sudan\",\"26 May 2021\",164472,10688,6.5,1.3,0.084\n",
      "\"150\",\"Spain\",\"1 Jul 2021\",54128524,3821305,7.1,116,8.2\n",
      "\"151\",\"Sri Lanka\",\"30 Mar 2021\",2384745,93128,3.9,10.9,0.43\n",
      "\"152\",\"Sudan\",\"7 Jan 2021\",158804,23316,14.7,0.36,0.053\n",
      "\"153\",\"Sweden\",\"24 May 2021\",9996795,1074751,10.8,96.8,10.4\n",
      "\"154\",\"Switzerland[l]\",\"7 Nov 2022\",23283909,4276836,18.4,270,49.7\n",
      "\"155\",\"Taiwan[m]\",\"3 Feb 2023\",30275725,8622129,28.48,128.3,36.528\n",
      "\"156\",\"Tanzania\",\"18 Nov 2020\",3880,509,13.1,0.0065,0.00085\n",
      "\"157\",\"Thailand\",\"4 Mar 2021\",1579597,26162,1.7,2.3,0.038\n",
      "\"158\",\"Togo\",\"6 Jan 2023\",807269,39358,4.9,9.4,0.46\n",
      "\"159\",\"Trinidad and Tobago\",\"3 Jan 2022\",512730,92997,18.1,37.6,6.8\n",
      "\"160\",\"Tunisia\",\"23 Aug 2021\",2893625,703732,24.3,24.5,6\n",
      "\"161\",\"Turkey\",\"2 Jul 2021\",61236294,5435831,8.9,73.6,6.5\n",
      "\"162\",\"Uganda\",\"11 Feb 2021\",852444,39979,4.7,1.9,0.087\n",
      "\"163\",\"Ukraine\",\"24 Nov 2021\",15648456,3367461,21.5,37.2,8\n",
      "\"164\",\"United Arab Emirates\",\"1 Feb 2023\",198685717,1049537,0.53,2070,10.9\n",
      "\"165\",\"United Kingdom\",\"19 May 2022\",522526476,22232377,4.3,774,32.9\n",
      "\"166\",\"United States\",\"29 Jul 2022\",929349291,90749469,9.8,281,27.4\n",
      "\"167\",\"Uruguay\",\"16 Apr 2022\",6089116,895592,14.7,175,25.8\n",
      "\"168\",\"Uzbekistan\",\"7 Sep 2020\",2630000,43975,1.7,7.7,0.13\n",
      "\"169\",\"Venezuela\",\"30 Mar 2021\",3179074,159149,5,11,0.55\n",
      "\"170\",\"Vietnam\",\"28 Aug 2022\",45772571,11403302,24.9,46.4,11.6\n",
      "\"171\",\"Zambia\",\"10 Mar 2022\",3301860,314850,9.5,19,1.8\n",
      "\"172\",\"Zimbabwe\",\"15 Oct 2022\",2529087,257893,10.2,17,1.7\n"
     ]
    }
   ],
   "source": [
    "# Export the data frame to a csv file\n",
    "write.csv(processed_data)"
   ]
  },
  {
   "cell_type": "markdown",
   "metadata": {},
   "source": [
    "## Getting a subset of the extracted data frame\n",
    "\n",
    "The goal is to get the 5th to 10th rows from the data frame with only `country` and `confirmed` columns selected\n"
   ]
  },
  {
   "cell_type": "code",
   "execution_count": 49,
   "metadata": {
    "tags": [],
    "vscode": {
     "languageId": "r"
    }
   },
   "outputs": [
    {
     "name": "stdout",
     "output_type": "stream",
     "text": [
      "               country confirmed\n",
      "5               Angola     20981\n",
      "6  Antigua and Barbuda       832\n",
      "7            Argentina   9060495\n",
      "8              Armenia    422963\n",
      "9            Australia  10112229\n",
      "10             Austria   5789991\n"
     ]
    }
   ],
   "source": [
    "# Read covid_data_frame_csv from the csv file\n",
    "\n",
    "# Get the 5th to 10th rows, with two \"country\" \"confirmed\" columns\n",
    "desired_data<-processed_data[5:10,c(\"country\",\"confirmed\")]\n",
    "print(desired_data)"
   ]
  },
  {
   "cell_type": "markdown",
   "metadata": {},
   "source": [
    "## Calculating worldwide COVID testing positive ratio\n",
    "\n",
    "The goal is to get the total confirmed and tested cases worldwide, and try to figure the overall positive ratio.\n"
   ]
  },
  {
   "cell_type": "code",
   "execution_count": 51,
   "metadata": {
    "tags": [],
    "vscode": {
     "languageId": "r"
    }
   },
   "outputs": [
    {
     "name": "stdout",
     "output_type": "stream",
     "text": [
      "[1] 0.07994145\n"
     ]
    }
   ],
   "source": [
    "# Get the total confirmed cases worldwide\n",
    "total_confirmed_cases<-sum(processed_data[,\"confirmed\"])\n",
    "# Get the total tested cases worldwide\n",
    "total_tested_cases<-sum(processed_data[,\"tested\"])\n",
    "# Get the positive ratio (confirmed / tested)\n",
    "print(total_confirmed_cases/total_tested_cases)"
   ]
  },
  {
   "cell_type": "markdown",
   "metadata": {},
   "source": [
    "## Getting a country list which reported their testing data \n",
    "\n",
    "The goal is to get a catalog or sorted list of countries who have reported their COVID-19 testing data\n"
   ]
  },
  {
   "cell_type": "code",
   "execution_count": 58,
   "metadata": {
    "tags": [],
    "vscode": {
     "languageId": "r"
    }
   },
   "outputs": [
    {
     "name": "stdout",
     "output_type": "stream",
     "text": [
      "[1] \"factor\"\n",
      "  [1] \"Zimbabwe\"               \"Zambia\"                 \"Vietnam\"               \n",
      "  [4] \"Venezuela\"              \"Uzbekistan\"             \"Uruguay\"               \n",
      "  [7] \"United States\"          \"United Kingdom\"         \"United Arab Emirates\"  \n",
      " [10] \"Ukraine\"                \"Uganda\"                 \"Turkey\"                \n",
      " [13] \"Tunisia\"                \"Trinidad and Tobago\"    \"Togo\"                  \n",
      " [16] \"Thailand\"               \"Tanzania\"               \"Taiwan[m]\"             \n",
      " [19] \"Switzerland[l]\"         \"Sweden\"                 \"Sudan\"                 \n",
      " [22] \"Sri Lanka\"              \"Spain\"                  \"South Sudan\"           \n",
      " [25] \"South Korea\"            \"South Africa\"           \"Slovenia\"              \n",
      " [28] \"Slovakia\"               \"Singapore\"              \"Serbia\"                \n",
      " [31] \"Senegal\"                \"Saudi Arabia\"           \"San Marino\"            \n",
      " [34] \"Saint Vincent\"          \"Saint Lucia\"            \"Saint Kitts and Nevis\" \n",
      " [37] \"Rwanda\"                 \"Russia\"                 \"Romania\"               \n",
      " [40] \"Qatar\"                  \"Portugal\"               \"Poland\"                \n",
      " [43] \"Philippines\"            \"Peru\"                   \"Paraguay\"              \n",
      " [46] \"Papua New Guinea\"       \"Panama\"                 \"Palestine\"             \n",
      " [49] \"Pakistan\"               \"Oman\"                   \"Norway\"                \n",
      " [52] \"Northern Cyprus[k]\"     \"North Macedonia\"        \"North Korea\"           \n",
      " [55] \"Nigeria\"                \"Niger\"                  \"New Zealand\"           \n",
      " [58] \"New Caledonia\"          \"Netherlands\"            \"Nepal\"                 \n",
      " [61] \"Namibia\"                \"Myanmar\"                \"Mozambique\"            \n",
      " [64] \"Morocco\"                \"Montenegro\"             \"Mongolia\"              \n",
      " [67] \"Moldova[j]\"             \"Mexico\"                 \"Mauritius\"             \n",
      " [70] \"Mauritania\"             \"Malta\"                  \"Mali\"                  \n",
      " [73] \"Maldives\"               \"Malaysia\"               \"Malawi\"                \n",
      " [76] \"Madagascar\"             \"Luxembourg[i]\"          \"Lithuania\"             \n",
      " [79] \"Libya\"                  \"Liberia\"                \"Lesotho\"               \n",
      " [82] \"Lebanon\"                \"Latvia\"                 \"Laos\"                  \n",
      " [85] \"Kyrgyzstan\"             \"Kuwait\"                 \"Kosovo\"                \n",
      " [88] \"Kenya\"                  \"Kazakhstan\"             \"Jordan\"                \n",
      " [91] \"Japan\"                  \"Jamaica\"                \"Ivory Coast\"           \n",
      " [94] \"Italy\"                  \"Israel\"                 \"Ireland\"               \n",
      " [97] \"Iraq\"                   \"Iran\"                   \"Indonesia\"             \n",
      "[100] \"India\"                  \"Iceland\"                \"Hungary\"               \n",
      "[103] \"Honduras\"               \"Haiti\"                  \"Guyana\"                \n",
      "[106] \"Guinea-Bissau\"          \"Guinea\"                 \"Guatemala\"             \n",
      "[109] \"Grenada\"                \"Greenland\"              \"Greece\"                \n",
      "[112] \"Ghana\"                  \"Germany\"                \"Georgia[h]\"            \n",
      "[115] \"Gambia\"                 \"Gabon\"                  \"France[f][g]\"          \n",
      "[118] \"Finland\"                \"Fiji\"                   \"Faroe Islands\"         \n",
      "[121] \"Ethiopia\"               \"Eswatini\"               \"Estonia\"               \n",
      "[124] \"Equatorial Guinea\"      \"El Salvador\"            \"Egypt\"                 \n",
      "[127] \"Ecuador\"                \"DR Congo\"               \"Dominican Republic\"    \n",
      "[130] \"Dominica\"               \"Djibouti\"               \"Denmark[e]\"            \n",
      "[133] \"Czechia\"                \"Cyprus[d]\"              \"Cuba\"                  \n",
      "[136] \"Croatia\"                \"Costa Rica\"             \"Colombia\"              \n",
      "[139] \"China[c]\"               \"Chile\"                  \"Chad\"                  \n",
      "[142] \"Canada\"                 \"Cameroon\"               \"Cambodia\"              \n",
      "[145] \"Burundi\"                \"Burkina Faso\"           \"Bulgaria\"              \n",
      "[148] \"Brunei\"                 \"Brazil\"                 \"Botswana\"              \n",
      "[151] \"Bosnia and Herzegovina\" \"Bolivia\"                \"Bhutan\"                \n",
      "[154] \"Benin\"                  \"Belize\"                 \"Belgium\"               \n",
      "[157] \"Belarus\"                \"Barbados\"               \"Bangladesh\"            \n",
      "[160] \"Bahrain\"                \"Bahamas\"                \"Azerbaijan\"            \n",
      "[163] \"Austria\"                \"Australia\"              \"Armenia\"               \n",
      "[166] \"Argentina\"              \"Antigua and Barbuda\"    \"Angola\"                \n",
      "[169] \"Andorra\"                \"Algeria\"                \"Albania\"               \n",
      "[172] \"Afghanistan\"           \n"
     ]
    }
   ],
   "source": [
    "# Get the `country` column\n",
    "countries<-sort(processed_data[,\"country\"])\n",
    "# Check its class (should be Factor)\n",
    "print(class(countries))\n",
    "# Conver the country column into character so that you can easily sort them\n",
    "countries<-as.character(countries)\n",
    "# Sort the countries AtoZ\n",
    "countries<-sort(countries)\n",
    "# Sort the countries ZtoA\n",
    "countries<-sort(countries, decreasing=TRUE)\n",
    "# Print the sorted ZtoA list\n",
    "print(countries)"
   ]
  },
  {
   "cell_type": "markdown",
   "metadata": {},
   "source": [
    "## Identifying countries names with a specific pattern\n",
    "\n",
    "Using a regular expression to find any countires start with `United`\n"
   ]
  },
  {
   "cell_type": "code",
   "execution_count": 61,
   "metadata": {
    "tags": [],
    "vscode": {
     "languageId": "r"
    }
   },
   "outputs": [
    {
     "name": "stdout",
     "output_type": "stream",
     "text": [
      "[1] \"United States\"        \"United Kingdom\"       \"United Arab Emirates\"\n"
     ]
    }
   ],
   "source": [
    "# Use a regular expression `United.+` to find matches\n",
    "matched_countries<-grep(\"^United\",countries)\n",
    "# Print the matched country names\n",
    "print(countries[matched_countries])"
   ]
  },
  {
   "cell_type": "markdown",
   "metadata": {},
   "source": [
    "## Picking two countries of my interest, and then review their testing data\n",
    "\n",
    "The goal is to compare the COVID-19 test data between two countires, I will select two rows from the dataframe, and select `country`, `confirmed`, `confirmed-population-ratio` columns\n"
   ]
  },
  {
   "cell_type": "code",
   "execution_count": 74,
   "metadata": {
    "tags": [],
    "vscode": {
     "languageId": "r"
    }
   },
   "outputs": [],
   "source": [
    "# Select a subset (should be only one row) of data frame based on a selected country name and columns\n",
    "country1<-processed_data[processed_data$country==\"Pakistan\",c(\"country\", \"confirmed\",\"confirmed.population.ratio\")]\n",
    "# Select a subset (should be only one row) of data frame based on a selected country name and columns\n",
    "country2<-processed_data[processed_data$country==\"India\",c(\"country\", \"confirmed\",\"confirmed.population.ratio\")]"
   ]
  },
  {
   "cell_type": "markdown",
   "metadata": {},
   "source": [
    "## Comparing which one of the selected countries has a larger ratio of confirmed cases to population\n",
    "\n",
    "The goal of this is to find out which country you have selected before has larger ratio of confirmed cases to population, which may indicate that country has higher COVID-19 infection risk\n"
   ]
  },
  {
   "cell_type": "code",
   "execution_count": 75,
   "metadata": {
    "tags": [],
    "vscode": {
     "languageId": "r"
    }
   },
   "outputs": [
    {
     "name": "stdout",
     "output_type": "stream",
     "text": [
      "[1] \"India\"\n"
     ]
    }
   ],
   "source": [
    "# Use if-else statement\n",
    "if (country1[\"confirmed.population.ratio\"]>country2[\"confirmed.population.ratio\"]) {\n",
    "   print(\"Pakistan\")\n",
    "} else {\n",
    "   print(\"India\")\n",
    "}\n"
   ]
  },
  {
   "cell_type": "markdown",
   "metadata": {},
   "source": [
    "## Finding countries with confirmed to population ratio rate less than a threshold\n",
    "\n",
    "The goal of task is to find out which countries have the confirmed to population ratio less than 1%, it may indicate the risk of those countries are relatively low\n"
   ]
  },
  {
   "cell_type": "code",
   "execution_count": null,
   "metadata": {
    "vscode": {
     "languageId": "r"
    }
   },
   "outputs": [],
   "source": [
    "# Get a subset of any countries with `confirmed.population.ratio` less than the threshold\n",
    "desired_countries<-processed_data[processed_data$confirmed.population.ratio<1]"
   ]
  }
 ],
 "metadata": {
  "kernelspec": {
   "display_name": "R",
   "language": "R",
   "name": "conda-env-r-r"
  },
  "language_info": {
   "codemirror_mode": "r",
   "file_extension": ".r",
   "mimetype": "text/x-r-source",
   "name": "R",
   "pygments_lexer": "r",
   "version": "3.5.1"
  }
 },
 "nbformat": 4,
 "nbformat_minor": 4
}
